{
 "cells": [
  {
   "cell_type": "markdown",
   "id": "66811ecb",
   "metadata": {},
   "source": [
    "# Password Authentication System"
   ]
  },
  {
   "cell_type": "markdown",
   "id": "539e3809",
   "metadata": {},
   "source": [
    "To create a password authentication system using Python you have to follow the steps mentioned below:"
   ]
  },
  {
   "cell_type": "markdown",
   "id": "68c03432",
   "metadata": {},
   "source": [
    "Step 1: Create a dictionary containing usernames and passwords"
   ]
  },
  {
   "cell_type": "markdown",
   "id": "c4595cb3",
   "metadata": {},
   "source": [
    "Step 2: Ask the user to input Username and password"
   ]
  },
  {
   "cell_type": "markdown",
   "id": "204fae34",
   "metadata": {},
   "source": [
    "Step 3: Then you have to use the getpass module in Python to ask for user input as the password. Here we are using the getpass module instead of the input function to make sure that the user doesn’t get to see what he/she write in the password field."
   ]
  },
  {
   "cell_type": "code",
   "execution_count": 4,
   "id": "10a87a51",
   "metadata": {},
   "outputs": [],
   "source": [
    "import getpass\n",
    "def pass_auth_sys():\n",
    "    user_pass_dict={'vishal_vs':'9999','harsh_vs':'5678','bhagwan':'1234'}\n",
    "    username=input(\"Enter Your Username: \")\n",
    "    password=getpass.getpass(\"Enter your Password: \")\n",
    "    for i in user_pass_dict.keys():\n",
    "        if username==i:\n",
    "            while password!=user_pass_dict[username]:\n",
    "                password=getpass.getpass(\"Enter your password again:\")\n",
    "            break\n",
    "    print(\"Verified\")"
   ]
  }
 ],
 "metadata": {
  "kernelspec": {
   "display_name": "Python 3 (ipykernel)",
   "language": "python",
   "name": "python3"
  },
  "language_info": {
   "codemirror_mode": {
    "name": "ipython",
    "version": 3
   },
   "file_extension": ".py",
   "mimetype": "text/x-python",
   "name": "python",
   "nbconvert_exporter": "python",
   "pygments_lexer": "ipython3",
   "version": "3.9.7"
  }
 },
 "nbformat": 4,
 "nbformat_minor": 5
}
